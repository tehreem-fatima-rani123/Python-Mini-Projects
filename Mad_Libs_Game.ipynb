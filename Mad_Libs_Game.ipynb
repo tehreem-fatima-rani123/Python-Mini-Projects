{
  "nbformat": 4,
  "nbformat_minor": 0,
  "metadata": {
    "colab": {
      "provenance": [],
      "authorship_tag": "ABX9TyM1LZJwQVlPUkK64TCFh8BK",
      "include_colab_link": true
    },
    "kernelspec": {
      "name": "python3",
      "display_name": "Python 3"
    },
    "language_info": {
      "name": "python"
    }
  },
  "cells": [
    {
      "cell_type": "markdown",
      "metadata": {
        "id": "view-in-github",
        "colab_type": "text"
      },
      "source": [
        "<a href=\"https://colab.research.google.com/github/tehreem-fatima-rani123/Python-Mini-Projects/blob/main/Mad_Libs_Game.ipynb\" target=\"_parent\"><img src=\"https://colab.research.google.com/assets/colab-badge.svg\" alt=\"Open In Colab\"/></a>"
      ]
    },
    {
      "cell_type": "markdown",
      "source": [],
      "metadata": {
        "id": "zWuDyJsSN-h4"
      }
    },
    {
      "cell_type": "markdown",
      "source": [
        "#**Mad Libs Game**"
      ],
      "metadata": {
        "id": "s8U-AMMhOAQO"
      }
    },
    {
      "cell_type": "markdown",
      "source": [],
      "metadata": {
        "id": "bHiRs0R4OKxS"
      }
    },
    {
      "cell_type": "code",
      "source": [
        "import time\n",
        "import random\n",
        "\n",
        "# Horror Story Inputs\n",
        "print(\"\\n☠️ The Horror Mad Libs ☠️\")\n",
        "time.sleep(1)\n",
        "\n",
        "name = input(\"😨 Enter a name: \")\n",
        "place = input(\"🏚️ Enter a haunted place: \")\n",
        "sound = input(\"🔊 Enter a creepy sound: \")\n",
        "thing = input(\"🎭 Enter a scary object: \")\n",
        "past_verb = input(\"🏃 Enter a past action (e.g., ran, screamed): \")\n",
        "adjective = input(\"☠️ Enter a horror adjective: \")\n",
        "\n",
        "# Generating Horror Story\n",
        "if name and place and sound and thing and past_verb and adjective:\n",
        "    print(\"\\nGenerating your horror story... 👁️🔪\")\n",
        "    time.sleep(2)\n",
        "\n",
        "    story = f\"\"\"\n",
        "    🕯️ It was a dark and {adjective} night. {name} found themselves in {place}.\n",
        "    Suddenly, a chilling {sound} echoed through the air.\n",
        "    Their heart pounded as they saw {thing} moving on its own...\n",
        "    They {past_verb}, but something was following them...\n",
        "    The darkness swallowed everything. {name} was never seen again. 👁️👁️\n",
        "    \"\"\"\n",
        "\n",
        "    print(\"\\n💀 Your Horror Story 💀\\n\")\n",
        "    print(story)\n",
        "else:\n",
        "    print(\"\\n👁️ Fill all the blanks... or face the consequences! 😈\")\n",
        "\n"
      ],
      "metadata": {
        "colab": {
          "base_uri": "https://localhost:8080/"
        },
        "id": "844MuM6lN6ib",
        "outputId": "99e424ef-96d8-464e-cb54-dc310a59ca8a"
      },
      "execution_count": 1,
      "outputs": [
        {
          "output_type": "stream",
          "name": "stdout",
          "text": [
            "\n",
            "☠️ The Horror Mad Libs ☠️\n",
            "😨 Enter a name: hamzah\n",
            "🏚️ Enter a haunted place:  pura house\n",
            "🔊 Enter a creepy sound: payal\n",
            "🎭 Enter a scary object: tuti churiyan\n",
            "🏃 Enter a past action (e.g., ran, screamed): dar gaya\n",
            "☠️ Enter a horror adjective: khooni\n",
            "\n",
            "Generating your horror story... 👁️🔪\n",
            "\n",
            "💀 Your Horror Story 💀\n",
            "\n",
            "\n",
            "    🕯️ It was a dark and khooni night. hamzah found themselves in  pura house.\n",
            "    Suddenly, a chilling payal echoed through the air.\n",
            "    Their heart pounded as they saw tuti churiyan moving on its own...\n",
            "    They dar gaya, but something was following them...\n",
            "    The darkness swallowed everything. hamzah was never seen again. 👁️👁️\n",
            "    \n"
          ]
        }
      ]
    }
  ]
}