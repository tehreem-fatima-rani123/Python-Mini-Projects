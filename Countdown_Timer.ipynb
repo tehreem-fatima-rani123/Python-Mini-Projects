{
  "nbformat": 4,
  "nbformat_minor": 0,
  "metadata": {
    "colab": {
      "provenance": [],
      "authorship_tag": "ABX9TyNKEkiVixy/cZO7i+LmVGE3",
      "include_colab_link": true
    },
    "kernelspec": {
      "name": "python3",
      "display_name": "Python 3"
    },
    "language_info": {
      "name": "python"
    }
  },
  "cells": [
    {
      "cell_type": "markdown",
      "metadata": {
        "id": "view-in-github",
        "colab_type": "text"
      },
      "source": [
        "<a href=\"https://colab.research.google.com/github/tehreem-fatima-rani123/Python-Mini-Projects/blob/main/Countdown_Timer.ipynb\" target=\"_parent\"><img src=\"https://colab.research.google.com/assets/colab-badge.svg\" alt=\"Open In Colab\"/></a>"
      ]
    },
    {
      "cell_type": "code",
      "source": [
        "import time\n",
        "from IPython.display import clear_output\n",
        "\n",
        "def countdown_timer(seconds):\n",
        "    try:\n",
        "        while seconds >= 0:\n",
        "            mins, secs = divmod(seconds, 60)\n",
        "            time_format = f'\\033[1;32m{mins:02d}:{secs:02d}\\033[0m'\n",
        "            clear_output(wait=True)\n",
        "            print(time_format)\n",
        "            time.sleep(1)\n",
        "            seconds -= 1\n",
        "\n",
        "        clear_output(wait=True)\n",
        "        print(\"\\033[1;31m00:00\\033[0m \\n🎉 Time's up! 🎉\")\n",
        "\n",
        "    except KeyboardInterrupt:\n",
        "        print(\"\\n⏹️ Countdown interrupted!\")\n",
        "\n",
        "total_seconds = int(input(\"⏳ Enter time in seconds for countdown: \"))\n",
        "countdown_timer(total_seconds)"
      ],
      "metadata": {
        "colab": {
          "base_uri": "https://localhost:8080/"
        },
        "id": "UYgfe9gwaTwb",
        "outputId": "d14e0734-6cdd-4913-e606-092afc816705"
      },
      "execution_count": 13,
      "outputs": [
        {
          "output_type": "stream",
          "name": "stdout",
          "text": [
            "00:00 \n",
            "🎉 Time's up! 🎉\n"
          ]
        }
      ]
    }
  ]
}