{
  "nbformat": 4,
  "nbformat_minor": 0,
  "metadata": {
    "colab": {
      "provenance": [],
      "authorship_tag": "ABX9TyPvxZnKbTWJ2CgBy7kQxPK6",
      "include_colab_link": true
    },
    "kernelspec": {
      "name": "python3",
      "display_name": "Python 3"
    },
    "language_info": {
      "name": "python"
    }
  },
  "cells": [
    {
      "cell_type": "markdown",
      "metadata": {
        "id": "view-in-github",
        "colab_type": "text"
      },
      "source": [
        "<a href=\"https://colab.research.google.com/github/tehreem-fatima-rani123/Python-Mini-Projects/blob/main/Rock%2C_Paper%2C_Scissors_Showdown.ipynb\" target=\"_parent\"><img src=\"https://colab.research.google.com/assets/colab-badge.svg\" alt=\"Open In Colab\"/></a>"
      ]
    },
    {
      "cell_type": "code",
      "execution_count": null,
      "metadata": {
        "id": "WS3vOSphVrLj",
        "colab": {
          "base_uri": "https://localhost:8080/"
        },
        "outputId": "7f5dda47-82ba-41b6-f96b-d014dc3e0530"
      },
      "outputs": [
        {
          "output_type": "stream",
          "name": "stdout",
          "text": [
            "\n",
            "🎮 Welcome to Rock, Paper, Scissors! Let's Play! 🎮\n",
            "\n",
            "🖐️ Enter Rock, Paper, or Scissors: scissors\n",
            "\n",
            "🤖 Computer is thinking...\n",
            "💻 Computer chose: Paper! \n",
            "\n",
            "🎉 You WIN! Scissors beats Paper!\n",
            "\n",
            "🔄 Play again? (yes/no): yes\n",
            "\n",
            "🖐️ Enter Rock, Paper, or Scissors: scissor\n",
            "⚠️ Invalid choice! Please choose Rock, Paper, or Scissors.\n",
            "\n",
            "🖐️ Enter Rock, Paper, or Scissors: ock\n",
            "⚠️ Invalid choice! Please choose Rock, Paper, or Scissors.\n",
            "\n",
            "🖐️ Enter Rock, Paper, or Scissors: rock\n",
            "\n",
            "🤖 Computer is thinking...\n",
            "💻 Computer chose: Scissors! \n",
            "\n",
            "🎉 You WIN! Rock beats Scissors!\n"
          ]
        }
      ],
      "source": [
        "\n",
        "import random\n",
        "import time\n",
        "\n",
        "def rock_paper_scissors():\n",
        "    print(\"\\n🎮 Welcome to Rock, Paper, Scissors! Let's Play! 🎮\")\n",
        "    choices = [\"rock\", \"paper\", \"scissors\"]\n",
        "\n",
        "    while True:\n",
        "        player_choice = input(\"\\n🖐️ Enter Rock, Paper, or Scissors: \").lower()\n",
        "\n",
        "        if player_choice not in choices:\n",
        "            print(\"⚠️ Invalid choice! Please choose Rock, Paper, or Scissors.\")\n",
        "            continue\n",
        "\n",
        "        computer_choice = random.choice(choices)\n",
        "\n",
        "        print(\"\\n🤖 Computer is thinking...\")\n",
        "        time.sleep(1)\n",
        "        print(f\"💻 Computer chose: {computer_choice.capitalize()}! \\n\")\n",
        "\n",
        "        if player_choice == computer_choice:\n",
        "            print(\"😲 It's a Tie!\")\n",
        "        elif (player_choice == \"rock\" and computer_choice == \"scissors\") or \\\n",
        "             (player_choice == \"paper\" and computer_choice == \"rock\") or \\\n",
        "             (player_choice == \"scissors\" and computer_choice == \"paper\"):\n",
        "            print(f\"🎉 You WIN! {player_choice.capitalize()} beats {computer_choice.capitalize()}!\")\n",
        "        else:\n",
        "            print(f\"😢 Computer WINS! {computer_choice.capitalize()} beats {player_choice.capitalize()}!\")\n",
        "\n",
        "        play_again = input(\"\\n🔄 Play again? (yes/no): \").lower()\n",
        "        if play_again != \"yes\":\n",
        "            print(\"\\n👋 Thanks for playing! See you next time!\")\n",
        "            break\n",
        "\n",
        "# Start the game\n",
        "rock_paper_scissors()\n"
      ]
    }
  ]
}