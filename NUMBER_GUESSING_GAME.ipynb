{
  "nbformat": 4,
  "nbformat_minor": 0,
  "metadata": {
    "colab": {
      "provenance": [],
      "authorship_tag": "ABX9TyNGEqj/PHuP+b6V0TITc6K4",
      "include_colab_link": true
    },
    "kernelspec": {
      "name": "python3",
      "display_name": "Python 3"
    },
    "language_info": {
      "name": "python"
    }
  },
  "cells": [
    {
      "cell_type": "markdown",
      "metadata": {
        "id": "view-in-github",
        "colab_type": "text"
      },
      "source": [
        "<a href=\"https://colab.research.google.com/github/tehreem-fatima-rani123/Python-Mini-Projects/blob/main/NUMBER_GUESSING_GAME.ipynb\" target=\"_parent\"><img src=\"https://colab.research.google.com/assets/colab-badge.svg\" alt=\"Open In Colab\"/></a>"
      ]
    },
    {
      "cell_type": "code",
      "source": [
        "import random\n",
        "import time\n",
        "\n",
        "def guess_the_number():\n",
        "    print(\"\\n🎯 Welcome to the Ultimate Number Guessing Game! 🎯\")\n",
        "    print(\"I have picked a secret number between 1 and 100. Can you guess it? 🤔\")\n",
        "\n",
        "    number = random.randint(1, 100)\n",
        "    guesses_left = 7\n",
        "\n",
        "    while guesses_left > 0:\n",
        "        print(f\"\\n💡 You have {guesses_left} guesses left.\")\n",
        "\n",
        "        try:\n",
        "            guess = int(input(\"🚀 Enter your guess: \"))\n",
        "        except ValueError:\n",
        "            print(\"⚠️ Invalid input! Please enter a valid number.\")\n",
        "            continue\n",
        "\n",
        "        if guess < 1 or guess > 100:\n",
        "            print(\"❌ Out of range! Guess a number between 1 and 100.\")\n",
        "            continue\n",
        "\n",
        "        if guess < number:\n",
        "            print(\"📉 Too low! Try a higher number.\")\n",
        "        elif guess > number:\n",
        "            print(\"📈 Too high! Try a lower number.\")\n",
        "        else:\n",
        "            print(f\"🎉 Congratulations! You guessed the number {number} correctly in {8 - guesses_left} tries! 🏆\")\n",
        "            return\n",
        "\n",
        "        guesses_left -= 1\n",
        "        time.sleep(0.5)\n",
        "\n",
        "    print(f\"\\n😢 Oops! You're out of guesses. The secret number was {number}. Better luck next time! 🔄\")\n",
        "\n",
        "# Start the game\n",
        "guess_the_number()\n"
      ],
      "metadata": {
        "colab": {
          "base_uri": "https://localhost:8080/"
        },
        "id": "l3eTfKW9Unwv",
        "outputId": "4c82b3aa-829c-4643-f5c1-d31b45cabd92"
      },
      "execution_count": 1,
      "outputs": [
        {
          "output_type": "stream",
          "name": "stdout",
          "text": [
            "\n",
            "🎯 Welcome to the Ultimate Number Guessing Game! 🎯\n",
            "I have picked a secret number between 1 and 100. Can you guess it? 🤔\n",
            "\n",
            "💡 You have 7 guesses left.\n",
            "🚀 Enter your guess: 65\n",
            "📈 Too high! Try a lower number.\n",
            "\n",
            "💡 You have 6 guesses left.\n",
            "🚀 Enter your guess: 9\n",
            "📉 Too low! Try a higher number.\n",
            "\n",
            "💡 You have 5 guesses left.\n",
            "🚀 Enter your guess: 50\n",
            "📉 Too low! Try a higher number.\n",
            "\n",
            "💡 You have 4 guesses left.\n",
            "🚀 Enter your guess: 6\n",
            "📉 Too low! Try a higher number.\n",
            "\n",
            "💡 You have 3 guesses left.\n",
            "🚀 Enter your guess: 60\n",
            "📉 Too low! Try a higher number.\n",
            "\n",
            "💡 You have 2 guesses left.\n",
            "🚀 Enter your guess: 63\n",
            "🎉 Congratulations! You guessed the number 63 correctly in 6 tries! 🏆\n"
          ]
        }
      ]
    }
  ]
}