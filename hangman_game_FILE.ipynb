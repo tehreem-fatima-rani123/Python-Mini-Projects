{
  "nbformat": 4,
  "nbformat_minor": 0,
  "metadata": {
    "colab": {
      "provenance": [],
      "authorship_tag": "ABX9TyMVH20LehIsm0P+GahyFXx6",
      "include_colab_link": true
    },
    "kernelspec": {
      "name": "python3",
      "display_name": "Python 3"
    },
    "language_info": {
      "name": "python"
    }
  },
  "cells": [
    {
      "cell_type": "markdown",
      "metadata": {
        "id": "view-in-github",
        "colab_type": "text"
      },
      "source": [
        "<a href=\"https://colab.research.google.com/github/tehreem-fatima-rani123/Python-Mini-Projects/blob/main/hangman_game_FILE.ipynb\" target=\"_parent\"><img src=\"https://colab.research.google.com/assets/colab-badge.svg\" alt=\"Open In Colab\"/></a>"
      ]
    },
    {
      "cell_type": "markdown",
      "source": [
        "#**hangman game**🤔"
      ],
      "metadata": {
        "id": "ZBFCSNo5uZok"
      }
    },
    {
      "cell_type": "code",
      "source": [
        "import random\n",
        "\n",
        "def hangman():\n",
        "    words = [\"python\", \"hangman\", \"emoji\", \"game\", \"fun\"]\n",
        "    word = random.choice(words)\n",
        "    guessed = \"_\" * len(word)\n",
        "    tries = 6\n",
        "    guessed_letters = []\n",
        "\n",
        "    # Emoji stages for hangman\n",
        "    stages = [\n",
        "        \"😊\",  # 6 tries left\n",
        "        \"😐\",  # 5 tries left\n",
        "        \"😕\",  # 4 tries left\n",
        "        \"😟\",  # 3 tries left\n",
        "        \"😨\",  # 2 tries left\n",
        "        \"😰\",  # 1 try left\n",
        "        \"😵\"   # 0 tries left (game over)\n",
        "    ]\n",
        "\n",
        "    print(\"Welcome to Hangman! 😊\")\n",
        "    print(guessed)\n",
        "\n",
        "    while tries > 0 and \"_\" in guessed:\n",
        "        print(stages[6 - tries])  # Show the current hangman emoji\n",
        "        guess = input(\"Guess a letter: \").lower()\n",
        "\n",
        "        if guess in guessed_letters:\n",
        "            print(\"You already guessed that letter! 🙄\")\n",
        "        elif guess in word:\n",
        "            print(\"Good guess! 👍\")\n",
        "            guessed_letters.append(guess)\n",
        "            guessed = \"\".join([letter if letter in guessed_letters else \"_\" for letter in word])\n",
        "        else:\n",
        "            print(\"Wrong guess! 👎\")\n",
        "            tries -= 1\n",
        "            guessed_letters.append(guess)\n",
        "\n",
        "        print(guessed)\n",
        "        print(f\"Tries left: {tries}\")\n",
        "\n",
        "    if \"_\" not in guessed:\n",
        "        print(\"Congratulations! You won! 🎉\")\n",
        "    else:\n",
        "        print(stages[6])  # Show the final hangman emoji\n",
        "        print(f\"Game over! The word was: {word} 😵\")\n",
        "\n",
        "hangman()"
      ],
      "metadata": {
        "colab": {
          "base_uri": "https://localhost:8080/"
        },
        "id": "LVFw4Xwzu0yp",
        "outputId": "eac84c0c-623b-4720-f025-66048fcff897"
      },
      "execution_count": 1,
      "outputs": [
        {
          "output_type": "stream",
          "name": "stdout",
          "text": [
            "Welcome to Hangman! 😊\n",
            "_______\n",
            "😊\n",
            "Guess a letter: h\n",
            "Good guess! 👍\n",
            "h______\n",
            "Tries left: 6\n",
            "😊\n",
            "Guess a letter: p\n",
            "Wrong guess! 👎\n",
            "h______\n",
            "Tries left: 5\n",
            "😐\n",
            "Guess a letter: a\n",
            "Good guess! 👍\n",
            "ha___a_\n",
            "Tries left: 5\n",
            "😐\n",
            "Guess a letter: n\n",
            "Good guess! 👍\n",
            "han__an\n",
            "Tries left: 5\n",
            "😐\n",
            "Guess a letter: g\n",
            "Good guess! 👍\n",
            "hang_an\n",
            "Tries left: 5\n",
            "😐\n",
            "Guess a letter: m\n",
            "Good guess! 👍\n",
            "hangman\n",
            "Tries left: 5\n",
            "Congratulations! You won! 🎉\n"
          ]
        }
      ]
    }
  ]
}